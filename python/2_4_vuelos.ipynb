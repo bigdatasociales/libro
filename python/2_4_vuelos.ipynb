{
 "cells": [
  {
   "cell_type": "markdown",
   "metadata": {},
   "source": [
    "###  BIG DATA PARA CIENTÍFICOS SOCIALES\n",
    "Ejemplo de tratamiento de HMTL con BeautifulSoup\n",
    "\n",
    "Esto es solo necesario si no se dispone aun de la biblioteca"
   ]
  },
  {
   "cell_type": "code",
   "execution_count": 17,
   "metadata": {},
   "outputs": [
    {
     "name": "stdout",
     "output_type": "stream",
     "text": [
      "Requirement already up-to-date: bs4 in c:\\users\\rafa\\anaconda3\\lib\\site-packages (0.0.1)\n",
      "Requirement already satisfied, skipping upgrade: beautifulsoup4 in c:\\users\\rafa\\anaconda3\\lib\\site-packages (from bs4) (4.6.0)\n"
     ]
    },
    {
     "name": "stderr",
     "output_type": "stream",
     "text": [
      "WARNING: You are using pip version 19.1, however version 20.2.3 is available.\n",
      "You should consider upgrading via the 'python -m pip install --upgrade pip' command.\n"
     ]
    }
   ],
   "source": [
    "import sys\n",
    "!{sys.executable} -m pip install --upgrade --user bs4"
   ]
  },
  {
   "cell_type": "code",
   "execution_count": 20,
   "metadata": {},
   "outputs": [
    {
     "name": "stdout",
     "output_type": "stream",
     "text": [
      "Vuelos con origen Frankfurt: \n",
      "FR 4140 Ryanair 10:30 AM\n"
     ]
    }
   ],
   "source": [
    "import requests\n",
    "from bs4 import BeautifulSoup\n",
    "\n",
    "url = \"https://www.flightstats.com/go/weblet?guid=c228b59beca1b817:-64e0c4c7:1117f1ad394:-3b36&weblet=status&action=AirportFlightStatus&airportCode=PMI&airportQueryType=1&language=Spanish\"\n",
    "page = requests.get(url).content\n",
    "\n",
    "soup = BeautifulSoup(page,\"html.parser\")\n",
    "\n",
    "tabla = soup.find(\"table\",{\"class\": \"tableListingTable\"})\n",
    "trs = tabla.find_all(\"tr\")\n",
    "print(\"Vuelos con origen Frankfurt: \")\n",
    "for fila in trs:\n",
    "    tds = fila.find_all(\"td\")\n",
    "    if '(FRA) Frankfurt' in tds[2].get_text():\n",
    "        print(tds[0].get_text().strip(),\n",
    "        tds[1].get_text().strip(),\n",
    "        tds[3].get_text().strip())\n",
    "   "
   ]
  },
  {
   "cell_type": "code",
   "execution_count": null,
   "metadata": {},
   "outputs": [],
   "source": []
  }
 ],
 "metadata": {
  "kernelspec": {
   "display_name": "Python 3",
   "language": "python",
   "name": "python3"
  },
  "language_info": {
   "codemirror_mode": {
    "name": "ipython",
    "version": 3
   },
   "file_extension": ".py",
   "mimetype": "text/x-python",
   "name": "python",
   "nbconvert_exporter": "python",
   "pygments_lexer": "ipython3",
   "version": "3.6.4"
  }
 },
 "nbformat": 4,
 "nbformat_minor": 2
}
