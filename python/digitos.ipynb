{
 "cells": [
  {
   "cell_type": "markdown",
   "metadata": {},
   "source": [
    "## Dígitos\n",
    "\n",
    "Se cargan imágenes de dígitos escritos a mano ya etiquetadas con el dígito al que corresponde cada imagen.\n",
    "\n",
    "Carga y clasificación con el clasificador SVC. Se muestra la matriz de confusión al entrenar y predecir con todo el conjunto\n"
   ]
  },
  {
   "cell_type": "code",
   "execution_count": 2,
   "metadata": {},
   "outputs": [
    {
     "name": "stdout",
     "output_type": "stream",
     "text": [
      "Informe de rendimiento del clasificador:\n",
      "              precision    recall  f1-score   support\n",
      "\n",
      "           0       1.00      1.00      1.00       178\n",
      "           1       1.00      1.00      1.00       182\n",
      "           2       1.00      1.00      1.00       177\n",
      "           3       0.99      1.00      1.00       183\n",
      "           4       1.00      1.00      1.00       181\n",
      "           5       1.00      0.99      1.00       182\n",
      "           6       1.00      1.00      1.00       181\n",
      "           7       1.00      1.00      1.00       179\n",
      "           8       1.00      1.00      1.00       174\n",
      "           9       0.99      0.99      0.99       180\n",
      "\n",
      "    accuracy                           1.00      1797\n",
      "   macro avg       1.00      1.00      1.00      1797\n",
      "weighted avg       1.00      1.00      1.00      1797\n",
      "\n",
      "\n",
      "Matriz de confusión:\n",
      "[[178   0   0   0   0   0   0   0   0   0]\n",
      " [  0 182   0   0   0   0   0   0   0   0]\n",
      " [  0   0 177   0   0   0   0   0   0   0]\n",
      " [  0   0   0 183   0   0   0   0   0   0]\n",
      " [  0   0   0   0 181   0   0   0   0   0]\n",
      " [  0   0   0   0   0 181   0   0   0   1]\n",
      " [  0   0   0   0   0   0 181   0   0   0]\n",
      " [  0   0   0   0   0   0   0 179   0   0]\n",
      " [  0   0   0   0   0   0   0   0 174   0]\n",
      " [  0   0   0   1   0   0   0   0   0 179]]\n"
     ]
    }
   ],
   "source": [
    "from sklearn import svm, datasets, metrics\n",
    "\n",
    "digitos = datasets.load_digits()   \n",
    "X = digitos.data  \n",
    "y = digitos.target  \n",
    "clasificador = svm.SVC(gamma=0.001)  \n",
    "clasificador.fit(X, y)\n",
    "\n",
    "observados = digitos.target\n",
    "predichos = clasificador.predict(X)\n",
    "print(\"Informe de rendimiento del clasificador:\\n%s\\n\"% \n",
    "           (metrics.classification_report(observados, predichos)))\n",
    "print(\"Matriz de confusión:\\n%s\" % \n",
    "           metrics.confusion_matrix(observados, predichos))\n"
   ]
  },
  {
   "cell_type": "markdown",
   "metadata": {},
   "source": [
    "Obsérvese que el rendimiento del clasificador sobre la muestra de entrenamiento es casi perfecto, alcanzando valores de precisión y exhaustividad iguales o muy cercanos a 1, y disponiendo la mayoría de ejemplos clasificados en la diagonal de la matriz de confusión. \n",
    "\n",
    "Sin embargo esto no es un caso real; estamos prediciendo justo los valores con los que ya hemos entrenado. En un caso práctico:\n",
    "\n",
    "1.- Entrenariamos con unos valores que incluyen la etiqueta, el valor a predecir, para que el sistema aprenda a inferir la relación entre la imagen y el valor esperado, y \n",
    "\n",
    "2.- Trataríamos de predecir el resultado para nuevas imágenes, no utilizadas al entrenar. \n",
    "\n",
    "\n",
    "Para simular este caso más próximo al real, a continuación se dividirá aleatoriamente el conjunto de ejemplos en dos muestras, una para entrenamiento y otra para test, esta última con un 40% de los casos (test_size=0.4). Para esto, se importa del módulo sklearn.model_selection las funciones train_test_split y cross_val_score (esta última se usará luego para realizar validación cruzada), y se ejecutan las siguientes sentencias"
   ]
  },
  {
   "cell_type": "code",
   "execution_count": 4,
   "metadata": {},
   "outputs": [
    {
     "name": "stdout",
     "output_type": "stream",
     "text": [
      "Informe de rendimiento del clasificador:\n",
      "              precision    recall  f1-score   support\n",
      "\n",
      "           0       1.00      1.00      1.00        74\n",
      "           1       1.00      0.99      0.99        68\n",
      "           2       0.99      1.00      0.99        68\n",
      "           3       0.99      0.98      0.98        83\n",
      "           4       1.00      1.00      1.00        79\n",
      "           5       0.97      0.97      0.97        65\n",
      "           6       0.99      1.00      0.99        70\n",
      "           7       0.99      0.99      0.99        74\n",
      "           8       0.97      0.98      0.98        62\n",
      "           9       0.96      0.95      0.95        76\n",
      "\n",
      "    accuracy                           0.98       719\n",
      "   macro avg       0.98      0.98      0.98       719\n",
      "weighted avg       0.98      0.98      0.98       719\n",
      "\n",
      "\n",
      "Matriz de confusión:\n",
      "[[74  0  0  0  0  0  0  0  0  0]\n",
      " [ 0 67  0  0  0  0  0  0  1  0]\n",
      " [ 0  0 68  0  0  0  0  0  0  0]\n",
      " [ 0  0  1 81  0  0  0  1  0  0]\n",
      " [ 0  0  0  0 79  0  0  0  0  0]\n",
      " [ 0  0  0  0  0 63  1  0  0  1]\n",
      " [ 0  0  0  0  0  0 70  0  0  0]\n",
      " [ 0  0  0  0  0  0  0 73  0  1]\n",
      " [ 0  0  0  0  0  0  0  0 61  1]\n",
      " [ 0  0  0  1  0  2  0  0  1 72]]\n"
     ]
    }
   ],
   "source": [
    "from sklearn.model_selection import train_test_split, cross_val_score\n",
    "\n",
    "X_entrenamiento, X_test, y_entrenamiento, y_test = train_test_split(X , y, test_size=0.4, random_state=1)\n",
    "\n",
    "clasificador.fit(X_entrenamiento, y_entrenamiento)\n",
    "observados = y_test\n",
    "predichos = clasificador.predict(X_test)\n",
    "\n",
    "print(\"Informe de rendimiento del clasificador:\\n%s\\n\" %\n",
    "\t (metrics.classification_report(observados, predichos)))\n",
    "print(\"Matriz de confusión:\\n%s\" % \n",
    "         metrics.confusion_matrix(observados, predichos))\n"
   ]
  },
  {
   "cell_type": "markdown",
   "metadata": {},
   "source": [
    "El clasificador obtiene sobre la muestra de test un rendimiento algo más bajo que en el entrenamiento, con diversos ejemplos que no se clasifican adecuadamente.\n",
    "\n",
    "Para aplicar un marco de validación cruzada con 5 iteraciones (cv=5), se puede utilizar el siguiente código, donde se importa la librería de funciones matemáticas numpy para poder requerir, en la última sentencia, el cálculo de la media (mean) y desviación típica (std) de los resultados obtenidos en test en cada iteración de la validación cruzada:\n"
   ]
  },
  {
   "cell_type": "code",
   "execution_count": 5,
   "metadata": {},
   "outputs": [
    {
     "name": "stdout",
     "output_type": "stream",
     "text": [
      "Tasas de acierto en test por iteración de validación cruzada: [0.975      0.95       0.98328691 0.99164345 0.96100279]\n",
      "Tasa de acierto media en la validación cruzada:  0.9721866295264624\n",
      "Desviación típica de las tasas de acierto:  0.015013488295959767\n"
     ]
    }
   ],
   "source": [
    "import numpy as np\n",
    "val_cruzada = cross_val_score(clasificador, X, y, cv=5)\n",
    "print(\"Tasas de acierto en test por iteración de validación cruzada:\",\n",
    "val_cruzada)\n",
    "print(\"Tasa de acierto media en la validación cruzada: \", \n",
    "     val_cruzada.mean())\n",
    "print(\"Desviación típica de las tasas de acierto: \", \n",
    "     val_cruzada.std())\n"
   ]
  },
  {
   "cell_type": "code",
   "execution_count": null,
   "metadata": {},
   "outputs": [],
   "source": []
  }
 ],
 "metadata": {
  "kernelspec": {
   "display_name": "Python 3",
   "language": "python",
   "name": "python3"
  },
  "language_info": {
   "codemirror_mode": {
    "name": "ipython",
    "version": 3
   },
   "file_extension": ".py",
   "mimetype": "text/x-python",
   "name": "python",
   "nbconvert_exporter": "python",
   "pygments_lexer": "ipython3",
   "version": "3.6.4"
  }
 },
 "nbformat": 4,
 "nbformat_minor": 2
}
